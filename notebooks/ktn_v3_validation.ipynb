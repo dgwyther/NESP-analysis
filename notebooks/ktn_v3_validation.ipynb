{
 "cells": [
  {
   "cell_type": "code",
   "execution_count": 1,
   "metadata": {},
   "outputs": [],
   "source": [
    "import xarray as xr\n",
    "from glob import glob\n",
    "import matplotlib.pyplot as plt\n",
    "import xroms\n",
    "# from cartopy import geodesic  # FS only way to get this module\n",
    "import cartopy\n",
    "import cartopy.crs as ccrs\n",
    "import cartopy.feature as cfeature\n",
    "from cartopy.mpl.ticker import LongitudeFormatter, LatitudeFormatter\n",
    "from cartopy.mpl.gridliner import LONGITUDE_FORMATTER, LATITUDE_FORMATTER\n",
    "import numpy as np\n",
    "import cmocean.cm as cmo"
   ]
  },
  {
   "cell_type": "code",
   "execution_count": 2,
   "metadata": {},
   "outputs": [],
   "source": [
    "def save_model_at_mooring(var, filename):\n",
    "    data = var.data\n",
    "    time = var.ocean_time.data\n",
    "    depth = var.z_rho.mean('ocean_time').data\n",
    "    nc = xr.Dataset(\n",
    "        data_vars=dict(\n",
    "            temp=([\"time\", \"depth\"], data)\n",
    "        ),\n",
    "        coords=dict(\n",
    "            time=([\"time\"], time),\n",
    "            depth=([\"depth\"], depth),\n",
    "        ),\n",
    "        attrs=dict(description=\"EAC_ROMS V3 at \"+str(var)),\n",
    "    )\n",
    "    nc.to_netcdf(filename + '.nc')\n",
    "    \n",
    "#----------------------------------------------------------------\n",
    "# \n",
    "def plot_moor_pos(v3, lon_obs, lat_obs, lon_best, isobath, titlestring):\n",
    "    dl = .3\n",
    "    box = (v3.lon_rho > lon_obs - dl) & (v3.lon_rho < lon_obs + dl) & (v3.lat_rho > lat_obs - dl) & (v3.lat_rho < lat_obs + dl)\n",
    "    dss = v3.where(box, drop=True).h.mean('ocean_time')\n",
    "    vmin = dss.min().values\n",
    "    vmax = dss.max().values\n",
    "    dss.plot(x='lon_rho', y='lat_rho', vmax=200, cmap=cmo.deep)\n",
    "    dss.plot.contour(x='lon_rho', y='lat_rho', levels=[isobath], colors='k', linestyles='--')\n",
    "    plt.scatter(lon_obs, lat_obs, s=50, c = 'k', edgecolor='r', label = 'mooring location')\n",
    "    plt.scatter(lon_best, lat_obs, s=50, c = 'k', edgecolor='w',label = 'validation location')\n",
    "    plt.xlim(lon_obs - dl, lon_obs + dl)\n",
    "    plt.ylim(lat_obs - dl, lat_obs + dl)\n",
    "    plt.legend()\n",
    "    plt.title(titlestring)\n"
   ]
  },
  {
   "cell_type": "code",
   "execution_count": 3,
   "metadata": {},
   "outputs": [
    {
     "name": "stderr",
     "output_type": "stream",
     "text": [
      "/g/data/fu5/deg581/miniconda3/envs/devel3.9/lib/python3.9/site-packages/distributed/node.py:160: UserWarning: Port 8787 is already in use.\n",
      "Perhaps you already have a cluster running?\n",
      "Hosting the HTTP server on port 33265 instead\n",
      "  warnings.warn(\n"
     ]
    }
   ],
   "source": [
    "from distributed import Client, progress, LocalCluster\n",
    "import socket\n",
    "client = Client(service_kwargs={'dashboard': {'prefix': f'/node/{socket.gethostname()}/8787'}})"
   ]
  },
  {
   "cell_type": "code",
   "execution_count": null,
   "metadata": {},
   "outputs": [],
   "source": [
    "def global_vars():\n",
    "    # A basic chunk choice\n",
    "    chunks = {'ocean_time': 10}\n",
    "    glb_files = glob('/srv/scratch/z3533156/26year_BRAN2020/outer_avg_*.nc')\n",
    "    ds = xr.open_mfdataset(glb_files, chunks=chunks)\n",
    "    print('global_vars: OK!')\n",
    "    return ds\n",
    "\n",
    "v3 = global_vars()"
   ]
  },
  {
   "cell_type": "markdown",
   "metadata": {},
   "source": [
    "#### Open mooring datasets using THREDDS (FS will include moorings for all the sections - QLD/NSW/VIC)"
   ]
  },
  {
   "cell_type": "code",
   "execution_count": null,
   "metadata": {},
   "outputs": [],
   "source": [
    "# url: http://thredds.aodn.org.au/thredds/catalog/IMOS/ANMN/NSW/catalog.html\n",
    "ch100  = xr.open_dataset('http://thredds.aodn.org.au/thredds/dodsC/IMOS/ANMN/NSW/CH100/gridded_timeseries/IMOS_ANMN-NSW_TZ_20090815_CH100_FV02_TEMP-gridded-timeseries_END-20220324_C-20220622.nc')\n",
    "ch70   = xr.open_dataset('http://thredds.aodn.org.au/thredds/dodsC/IMOS/ANMN/NSW/CH070/gridded_timeseries/IMOS_ANMN-NSW_TZ_20090815_CH070_FV02_TEMP-gridded-timeseries_END-20220324_C-20220622.nc')\n",
    "syd100 = xr.open_dataset('http://thredds.aodn.org.au/thredds/dodsC/IMOS/ANMN/NSW/SYD100/gridded_timeseries/IMOS_ANMN-NSW_TZ_20080625_SYD100_FV02_TEMP-gridded-timeseries_END-20220426_C-20220622.nc')\n",
    "syd140 = xr.open_dataset('http://thredds.aodn.org.au/thredds/dodsC/IMOS/ANMN/NSW/SYD140/gridded_timeseries/IMOS_ANMN-NSW_TZ_20080625_SYD140_FV02_TEMP-gridded-timeseries_END-20220504_C-20220622.nc')\n",
    "bmp120 = xr.open_dataset('http://thredds.aodn.org.au/thredds/dodsC/IMOS/ANMN/NSW/BMP120/gridded_timeseries/IMOS_ANMN-NSW_TZ_20110329_BMP120_FV02_TEMP-gridded-timeseries_END-20220516_C-20220622.nc')\n",
    "bmp70  = xr.open_dataset('http://thredds.aodn.org.au/thredds/dodsC/IMOS/ANMN/NSW/BMP070/gridded_timeseries/IMOS_ANMN-NSW_TZ_20141118_BMP070_FV02_TEMP-gridded-timeseries_END-20220516_C-20220622.nc')"
   ]
  },
  {
   "cell_type": "markdown",
   "metadata": {},
   "source": [
    "#### Make depth axis negative"
   ]
  },
  {
   "cell_type": "code",
   "execution_count": null,
   "metadata": {},
   "outputs": [],
   "source": [
    "ch100['DEPTH_1']  = ch100.DEPTH * -1\n",
    "ch70['DEPTH_1']   = ch70.DEPTH * -1\n",
    "syd100['DEPTH_1'] = syd100.DEPTH * -1\n",
    "syd140['DEPTH_1'] = syd140.DEPTH * -1\n",
    "bmp120['DEPTH_1'] = bmp120.DEPTH * -1\n",
    "bmp70['DEPTH_1']  = bmp120.DEPTH * -1"
   ]
  },
  {
   "cell_type": "code",
   "execution_count": null,
   "metadata": {},
   "outputs": [],
   "source": [
    "def argsel2d(lons, lats, lon0, lat0):\n",
    "    \"\"\"Find the indices of coordinate pair closest to another point.\n",
    "    Inputs\n",
    "    ------\n",
    "    lons: DataArray, ndarray, list\n",
    "        Longitudes of points to search through for closest point.\n",
    "    lats: DataArray, ndarray, list\n",
    "        Latitudes of points to search through for closest point.\n",
    "    lon0: float, int\n",
    "        Longitude of comparison point.\n",
    "    lat0: float, int\n",
    "        Latitude of comparison point.\n",
    "    Returns\n",
    "    -------\n",
    "    Index or indices of location in coordinate pairs made up of lons, lats\n",
    "    that is closest to location lon0, lat0. Number of dimensions of\n",
    "    returned indices will correspond to the shape of input lons.\n",
    "    Notes\n",
    "    -----\n",
    "    This function uses Great Circle distance to calculate distances assuming\n",
    "    longitudes and latitudes as point coordinates. Uses cartopy function\n",
    "    `Geodesic`: https://scitools.org.uk/cartopy/docs/latest/cartopy/geodesic.html\n",
    "    If searching for the closest grid node to a lon/lat location, be sure to\n",
    "    use the correct horizontal grid (rho, u, v, or psi). This is accounted for\n",
    "    if this function is used through the accessor.\n",
    "    Example usage\n",
    "    -------------\n",
    "    >>> xroms.argsel2d(ds.lon_rho, ds.lat_rho, -96, 27)\n",
    "    \"\"\"\n",
    "    # input lons and lats can be multidimensional and might be DataArrays or lists\n",
    "    pts = list(zip(*(np.asarray(lons).flatten(), np.asarray(lats).flatten())))\n",
    "    endpts = list(zip(*(np.asarray(lon0).flatten(), np.asarray(lat0).flatten())))\n",
    "\n",
    "    G = cartopy.geodesic.Geodesic()  # set up class\n",
    "    dist = np.asarray(G.inverse(pts, endpts)[:, 0])  # select distances specifically\n",
    "    iclosest = abs(np.asarray(dist)).argmin()  # find indices of closest point\n",
    "    # return index or indices in input array shape\n",
    "    inds = np.unravel_index(iclosest, np.asarray(lons).shape)\n",
    "    return inds\n",
    "\n",
    "def sel2d(var, lons, lats, lon0, lat0):\n",
    "    \"\"\"Find the value of the var at closest location to lon0,lat0.\n",
    "    Inputs\n",
    "    ------\n",
    "    var: DataArray, ndarray\n",
    "        Variable to operate on.\n",
    "    lons: DataArray, ndarray, list\n",
    "        Longitudes of points to search through for closest point.\n",
    "    lats: DataArray, ndarray, list\n",
    "        Latitudes of points to search through for closest point.\n",
    "    lon0: float, int\n",
    "        Longitude of comparison point.\n",
    "    lat0: float, int\n",
    "        Latitude of comparison point.\n",
    "    Returns\n",
    "    -------\n",
    "    Value in var of location in coordinate pairs made up of lons, lats\n",
    "    that is closest to location lon0, lat0. If var has other\n",
    "    dimensions, they are brought along.\n",
    "    Notes\n",
    "    -----\n",
    "    This function uses Great Circle distance to calculate distances assuming\n",
    "    longitudes and latitudes as point coordinates. Uses cartopy function\n",
    "    `Geodesic`: https://scitools.org.uk/cartopy/docs/latest/cartopy/geodesic.html\n",
    "    If searching for the closest grid node to a lon/lat location, be sure to\n",
    "    use the correct horizontal grid (rho, u, v, or psi). This is accounted for\n",
    "    if this function is used through the accessor.\n",
    "    This is meant to be used by the accessor to conveniently wrap\n",
    "    `argsel2d`.\n",
    "    Example usage\n",
    "    -------------\n",
    "    >>> xroms.sel2d(ds.temp, ds.lon_rho, ds.lat_rho, -96, 27)\n",
    "    \"\"\"\n",
    "    assert isinstance(var, xr.DataArray), \"Input a DataArray\"\n",
    "    inds = argsel2d(lons, lats, lon0, lat0)\n",
    "#     return var.cf.isel(Y=inds[0], X=inds[1])   #FS\n",
    "    return var.cf.isel(eta_rho=inds[0], xi_rho=inds[1])     #FS\n",
    "\n"
   ]
  },
  {
   "cell_type": "code",
   "execution_count": null,
   "metadata": {},
   "outputs": [],
   "source": [
    "lon = v3.lon_rho.values\n",
    "lat = v3.lat_rho.values"
   ]
  },
  {
   "cell_type": "code",
   "execution_count": null,
   "metadata": {},
   "outputs": [],
   "source": [
    "def find_best_model_depth(moor_lon, moor_lat, moor_depth, model_lon, nm):\n",
    "    print('Doing for %s' % nm)\n",
    "    moor_deepest = np.min(moor_depth)\n",
    "    resol = np.min(np.diff(lon))\n",
    "    st = moor_lon - (resol*10)\n",
    "    nd = moor_lon + (resol*10)\n",
    "    print('This is the original mooring longitude: %s' % moor_lon.data)\n",
    "    print('This is the starting range mooring longitude: %s' % st.data)\n",
    "    print('This is the ending range mooring longitude: %s' % nd.data)\n",
    "    seed_array = np.linspace(st, nd, 20)\n",
    "    depth_diff = list()\n",
    "    sto_model_idx = list()\n",
    "    for tlon in seed_array:\n",
    "        model_depth = sel2d(v3.h, lon, lat, tlon, moor_lat)[0]\n",
    "        depth_diff.append(abs(abs(moor_deepest) - model_depth.values))\n",
    "        sto_model_idx.append(model_depth.values)\n",
    "    idx = np.argsort(depth_diff)[0]\n",
    "    print('For the longitude %s, the depth difference between mooring and model is %s meters' % (seed_array[idx], np.round(depth_diff[idx].data, 2)))\n",
    "    print('Mooring depth is %s and model depth is %s meters.' % (abs(moor_deepest.data), sto_model_idx[idx]))\n",
    "    return seed_array[idx]"
   ]
  },
  {
   "cell_type": "markdown",
   "metadata": {},
   "source": [
    "## Coffs coordinates"
   ]
  },
  {
   "cell_type": "code",
   "execution_count": null,
   "metadata": {},
   "outputs": [],
   "source": [
    "ch100_lon, ch100_lat = ch100.LONGITUDE, ch100.LATITUDE\n",
    "ch100_lon_best = find_best_model_depth(ch100_lon, ch100_lat, ch100.DEPTH_1, lon, 'CH100')"
   ]
  },
  {
   "cell_type": "code",
   "execution_count": null,
   "metadata": {},
   "outputs": [],
   "source": [
    "ch70_lon, ch70_lat = ch70.LONGITUDE, ch70.LATITUDE\n",
    "ch70_lon_best = find_best_model_depth(ch70_lon, ch70_lat, ch70.DEPTH_1, lon, 'CH70')"
   ]
  },
  {
   "cell_type": "markdown",
   "metadata": {},
   "source": [
    "### Sydney Coordinates"
   ]
  },
  {
   "cell_type": "code",
   "execution_count": null,
   "metadata": {},
   "outputs": [],
   "source": [
    "syd100_lon, syd100_lat = syd100.LONGITUDE, syd100.LATITUDE\n",
    "syd100_lon_best = find_best_model_depth(syd100_lon, syd100_lat, syd100.DEPTH_1, lon, 'SYD100')"
   ]
  },
  {
   "cell_type": "code",
   "execution_count": null,
   "metadata": {},
   "outputs": [],
   "source": [
    "syd140_lon, syd140_lat = syd140.LONGITUDE, syd140.LATITUDE\n",
    "syd140_lon_best = find_best_model_depth(syd140_lon, syd140_lat, syd140.DEPTH_1, lon, 'SYD140')"
   ]
  },
  {
   "cell_type": "markdown",
   "metadata": {},
   "source": [
    "### Narooma coordinates"
   ]
  },
  {
   "cell_type": "code",
   "execution_count": null,
   "metadata": {},
   "outputs": [],
   "source": [
    "# dif from Neil code> 131.58928345 - 120 (11.589), difference bigger than mine...\n",
    "bmp120_lon, bmp120_lat = bmp120.LONGITUDE, bmp120.LATITUDE\n",
    "bmp120_lon_best = find_best_model_depth(bmp120_lon, bmp120_lat, bmp120.DEPTH_1, lon, 'BMP120')"
   ]
  },
  {
   "cell_type": "code",
   "execution_count": null,
   "metadata": {},
   "outputs": [],
   "source": [
    "bmp70_lon, bmp70_lat = bmp70.LONGITUDE, bmp70.LATITUDE\n",
    "bmp70_lon_best = find_best_model_depth(bmp70_lon, bmp70_lat, bmp70.DEPTH_1, lon, 'BMP70')"
   ]
  },
  {
   "cell_type": "markdown",
   "metadata": {},
   "source": [
    "### Plot locations for sanity check:"
   ]
  },
  {
   "cell_type": "code",
   "execution_count": null,
   "metadata": {},
   "outputs": [],
   "source": [
    "fig = plt.figure(figsize=(16,5))\n",
    "plt.subplot(2, 3, 1)\n",
    "plot_moor_pos(v3, ch100_lon, ch100_lat, ch100_lon_best, 100, 'CH100 mooring locations')\n",
    "plt.subplot(2, 3, 2)\n",
    "plot_moor_pos(v3, ch70_lon, ch70_lat, ch70_lon_best, 100, 'CH70 mooring locations')\n",
    "plt.subplot(2, 3, 3)\n",
    "plot_moor_pos(v3, syd100_lon, syd100_lat, syd100_lon_best, 100, 'SYD100 mooring locations')\n",
    "plt.subplot(2, 3, 4)\n",
    "plot_moor_pos(v3, syd140_lon, syd140_lat, syd140_lon_best, 100, 'SYD140 mooring locations')\n",
    "plt.subplot(2, 3, 5)\n",
    "plot_moor_pos(v3, bmp120_lon, bmp120_lat, bmp120_lon_best, 100, 'BMP120 mooring locations')\n",
    "plt.subplot(2, 3, 6)\n",
    "plot_moor_pos(v3, bmp70_lon, bmp70_lat, bmp70_lon_best, 100, 'BMP70 mooring locations')\n",
    "plt.tight_layout()\n",
    "plt.savefig('validation_point.png', format=\"png\", bbox_inches='tight', pad_inches=0.1, dpi=100)\n",
    "plt.close()"
   ]
  },
  {
   "cell_type": "code",
   "execution_count": null,
   "metadata": {},
   "outputs": [],
   "source": [
    "def sigma_depth_calc(ds):\n",
    "    '''Sigma layers depth calculation'''\n",
    "    Zo_rho = (ds.hc * ds.s_rho + ds.Cs_r * ds.h) / (ds.hc + ds.h)\n",
    "    z_rho = ds.zeta + (ds.zeta + ds.h) * Zo_rho\n",
    "    ds.coords[\"z_rho\"] = z_rho\n",
    "    print('sigma_depth_calc: OK!')\n",
    "    return ds\n",
    "\n",
    "v3 = sigma_depth_calc(v3)"
   ]
  },
  {
   "cell_type": "code",
   "execution_count": null,
   "metadata": {},
   "outputs": [],
   "source": [
    "v3_ch100  = sel2d(v3.temp, lon, lat, ch100_lon_best, ch100_lat).sel(ocean_time=slice(ch100.TIME[0], v3.ocean_time[-1])).load()\n",
    "v3_ch70   = sel2d(v3.temp, lon, lat, ch70_lon_best, ch70_lat).sel(ocean_time=slice(ch70.TIME[0], v3.ocean_time[-1])).load()\n",
    "v3_syd100 = sel2d(v3.temp, lon, lat, syd100_lon_best, syd100_lat).sel(ocean_time=slice(syd100.TIME[0], v3.ocean_time[-1])).load()\n",
    "v3_syd140 = sel2d(v3.temp, lon, lat, syd140_lon_best, syd140_lat).sel(ocean_time=slice(syd140.TIME[0], v3.ocean_time[-1])).load()\n",
    "v3_bmp120 = sel2d(v3.temp, lon, lat, bmp120_lon_best, bmp120_lat).sel(ocean_time=slice(bmp120.TIME[0], v3.ocean_time[-1])).load()\n",
    "v3_bmp70  = sel2d(v3.temp, lon, lat, bmp70_lon_best, bmp70_lat).sel(ocean_time=slice(bmp70.TIME[0], v3.ocean_time[-1])).load()\n"
   ]
  },
  {
   "cell_type": "markdown",
   "metadata": {},
   "source": [
    "##### Save out temperature timeseries from model runs"
   ]
  },
  {
   "cell_type": "code",
   "execution_count": null,
   "metadata": {},
   "outputs": [],
   "source": [
    "save_model_at_mooring(v3_ch100, '/home/z5392640/work/phd_unsw/katana/roms_validation/v3_ch100' )\n",
    "save_model_at_mooring(v3_ch70, '/home/z5392640/work/phd_unsw/katana/roms_validation/v3_ch70' )\n",
    "save_model_at_mooring(v3_syd100, '/home/z5392640/work/phd_unsw/katana/roms_validation/v3_syd100' )\n",
    "save_model_at_mooring(v3_syd140, '/home/z5392640/work/phd_unsw/katana/roms_validation/v3_syd140' )\n",
    "save_model_at_mooring(v3_bmp120, '/home/z5392640/work/phd_unsw/katana/roms_validation/v3_bmp120' )\n",
    "save_model_at_mooring(v3_bmp70, '/home/z5392640/work/phd_unsw/katana/roms_validation/v3_bmp70' )"
   ]
  },
  {
   "cell_type": "markdown",
   "metadata": {},
   "source": [
    "### Plot time-mean profiles to compare"
   ]
  },
  {
   "cell_type": "code",
   "execution_count": null,
   "metadata": {},
   "outputs": [],
   "source": [
    "v3_time = v3_ch100.mean('ocean_time')\n",
    "v3_depth = v3_ch100.z_rho.mean('ocean_time')\n",
    "ch100_cut = ch100.TEMP.sel(TIME=slice(ch100.TIME[0], v3.ocean_time[-1])).mean('TIME')\n",
    "plt.plot(v3_time, v3_depth, color='orange', label='v3')\n",
    "plt.scatter(ch100_cut, ch100.DEPTH_1, color='k', label='Obs')\n",
    "plt.title('CH100 ROMS V3')\n",
    "plt.legend()\n",
    "plt.savefig('v3_ch100_temp.png',format=\"png\",bbox_inches='tight',pad_inches=0.1, dpi=100)"
   ]
  },
  {
   "cell_type": "code",
   "execution_count": null,
   "metadata": {},
   "outputs": [],
   "source": [
    "v3_time = v3_ch70.mean('ocean_time')\n",
    "v3_depth = v3_ch70.z_rho.mean('ocean_time')\n",
    "ch70_cut = ch70.TEMP.sel(TIME=slice(ch70.TIME[0], v3.ocean_time[-1])).mean('TIME')\n",
    "plt.plot(v3_time, v3_depth, color='orange', label='v3')\n",
    "plt.scatter(ch70_cut, ch70.DEPTH_1, color='k', label='Obs')\n",
    "plt.title('CH70 ROMS V3')\n",
    "plt.legend()\n",
    "plt.savefig('v3_ch70_temp.png', format=\"png\",bbox_inches='tight',pad_inches=0.1, dpi=100)"
   ]
  },
  {
   "cell_type": "code",
   "execution_count": null,
   "metadata": {},
   "outputs": [],
   "source": [
    "v3_time = v3_syd100.mean('ocean_time')\n",
    "v3_depth = v3_syd100.z_rho.mean('ocean_time')\n",
    "syd100_cut = syd100.TEMP.sel(TIME=slice(syd100.TIME[0], v3.ocean_time[-1])).mean('TIME')\n",
    "plt.plot(v3_time, v3_depth, color='orange', label='v3')\n",
    "plt.scatter(syd100_cut, syd100.DEPTH_1, color='k', label='Obs')\n",
    "plt.title('SYD100 ROMS V3')\n",
    "plt.legend()\n",
    "plt.savefig('v3_syd100_temp.png',format=\"png\",bbox_inches='tight',pad_inches=0.1, dpi=100)"
   ]
  },
  {
   "cell_type": "code",
   "execution_count": null,
   "metadata": {},
   "outputs": [],
   "source": [
    "v3_time = v3_syd140.mean('ocean_time')\n",
    "v3_depth = v3_syd140.z_rho.mean('ocean_time')\n",
    "syd140_cut = syd140.TEMP.sel(TIME=slice(syd140.TIME[0], v3.ocean_time[-1])).mean('TIME')\n",
    "plt.plot(v3_time, v3_depth, color='orange', label='v3')\n",
    "plt.scatter(syd140_cut, syd140.DEPTH_1, color='k', label='Obs')\n",
    "plt.title('SYD140 ROMS V3')\n",
    "plt.legend()\n",
    "plt.savefig('v3_syd140_temp.png',format=\"png\",bbox_inches='tight',pad_inches=0.1, dpi=100)"
   ]
  },
  {
   "cell_type": "code",
   "execution_count": null,
   "metadata": {},
   "outputs": [],
   "source": [
    "v3_time = v3_bmp120.mean('ocean_time')\n",
    "v3_depth = v3_bmp120.z_rho.mean('ocean_time')\n",
    "bmp120_cut = bmp120.TEMP.sel(TIME=slice(bmp120.TIME[0], v3.ocean_time[-1])).mean('TIME')\n",
    "plt.plot(v3_time, v3_depth, color='orange', label='v3')\n",
    "plt.scatter(bmp120_cut, bmp120.DEPTH_1, color='k', label='Obs')\n",
    "plt.title('BMP120 ROMS V3')\n",
    "plt.legend()\n",
    "plt.savefig('v3_bmp120_temp.png',format=\"png\",bbox_inches='tight',pad_inches=0.1, dpi=100)"
   ]
  },
  {
   "cell_type": "code",
   "execution_count": null,
   "metadata": {},
   "outputs": [],
   "source": [
    "v3_time = v3_bmp70.mean('ocean_time')\n",
    "v3_depth = v3_bmp70.z_rho.mean('ocean_time')\n",
    "bmp70_cut = bmp70.TEMP.sel(TIME=slice(bmp70.TIME[0], v3.ocean_time[-1])).mean('TIME')\n",
    "plt.plot(v3_time, v3_depth, color='orange', label='v3')\n",
    "plt.scatter(bmp70_cut, bmp70.DEPTH_1, color='k', label='Obs')\n",
    "plt.title('BMP70 ROMS V3')\n",
    "plt.legend()\n",
    "plt.savefig('v3_bmp70_temp.png',format=\"png\",bbox_inches='tight',pad_inches=0.1, dpi=100)"
   ]
  }
 ],
 "metadata": {
  "kernelspec": {
   "display_name": "Python 3 (ipykernel)",
   "language": "python",
   "name": "python3"
  },
  "language_info": {
   "codemirror_mode": {
    "name": "ipython",
    "version": 3
   },
   "file_extension": ".py",
   "mimetype": "text/x-python",
   "name": "python",
   "nbconvert_exporter": "python",
   "pygments_lexer": "ipython3",
   "version": "3.9.7"
  }
 },
 "nbformat": 4,
 "nbformat_minor": 4
}
